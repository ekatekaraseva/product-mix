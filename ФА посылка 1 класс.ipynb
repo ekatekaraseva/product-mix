{
 "cells": [
  {
   "cell_type": "code",
   "execution_count": 1,
   "metadata": {},
   "outputs": [],
   "source": [
    "import pandas as pd\n",
    "import numpy as np\n"
   ]
  },
  {
   "cell_type": "code",
   "execution_count": 2,
   "metadata": {},
   "outputs": [],
   "source": [
    "df = pd.read_excel('массив 1 класс.xlsx')"
   ]
  },
  {
   "cell_type": "code",
   "execution_count": 3,
   "metadata": {},
   "outputs": [],
   "source": [
    "df.columns = ['Услуга', 'УФПС приема', 'УФПС назначения', 'Тип пересылки', 'Брейк',\n",
    "       'ОЦ', 'cnt18', 'revenue18', 'ОЦ18', 'тариф ОЦ18', 'cnt', 'revenue',\n",
    "       'ОЦ19', 'тариф ОЦ']"
   ]
  },
  {
   "cell_type": "code",
   "execution_count": 4,
   "metadata": {},
   "outputs": [],
   "source": [
    "df['цена0'] = df['revenue18'] / df['cnt18']\n",
    "df['цена1'] = df['revenue'] / df['cnt']\n",
    "\n",
    "df.loc[df['цена0'].isna(),'цена0'] = df.loc[df['цена0'].isna(),'цена1']\n",
    "df.loc[df['цена1'].isna(),'цена1'] = df.loc[df['цена1'].isna(),'цена0']\n",
    "\n",
    "#df = df[~df['цена1'].isna()]\n",
    "\n",
    "df['выручка итог 0'] = df['revenue18'] + (df['тариф ОЦ18'].astype(int))/100\n",
    "df['выручка итог 1'] = df['revenue'] + (df['тариф ОЦ'].astype(int))/100\n",
    "\n",
    "summary = pd.DataFrame(df.iloc[:,6:].sum()).T"
   ]
  },
  {
   "cell_type": "code",
   "execution_count": 5,
   "metadata": {},
   "outputs": [],
   "source": [
    "# делаем разбивку по долям ГЕО СПЛИТ\n",
    "geo_0 = df[['УФПС приема', 'УФПС назначения', 'cnt18']].groupby(['УФПС приема', 'УФПС назначения']).sum()/summary.loc[0,'cnt18']\n",
    "geo_0.reset_index(inplace = True)\n",
    "geo_0['link'] = geo_0['УФПС приема'] + geo_0['УФПС назначения'].astype(str)\n",
    "geo_0_dict = geo_0[['link','cnt18']].set_index('link').to_dict()['cnt18']\n",
    "\n",
    "geo_1 = df[['УФПС приема', 'УФПС назначения', 'cnt']].groupby(['УФПС приема', 'УФПС назначения']).sum()/summary.loc[0,'cnt']\n",
    "geo_1.reset_index(inplace = True)\n",
    "geo_1['link'] = geo_1['УФПС приема'] + geo_1['УФПС назначения'].astype(str)\n",
    "geo_1_dict = geo_1[['link','cnt']].set_index('link').to_dict()['cnt']"
   ]
  },
  {
   "cell_type": "code",
   "execution_count": 6,
   "metadata": {},
   "outputs": [],
   "source": [
    "# делаем разбивку по БРЕЙКАМ\n",
    "break_0 = df[['УФПС приема', 'УФПС назначения','Брейк','cnt18']].groupby(['УФПС приема', 'УФПС назначения','Брейк']).sum().reset_index()\n",
    "break_0['cnt geo'] =  (break_0['УФПС приема'] + break_0['УФПС назначения'].astype(str)).map(geo_0_dict) * summary.loc[0,'cnt18']\n",
    "break_0['break_part'] = break_0['cnt18'] / break_0['cnt geo']\n",
    "break_0['link'] = break_0['УФПС приема'] + break_0['УФПС назначения'].astype(str) + break_0['Брейк'].astype(str)\n",
    "break_0_dict = break_0[['link','break_part']].set_index('link').to_dict()['break_part']\n",
    "\n",
    "break_1 = df[['УФПС приема', 'УФПС назначения','Брейк','cnt']].groupby(['УФПС приема', 'УФПС назначения','Брейк']).sum().reset_index()\n",
    "break_1['cnt geo'] =  (break_1['УФПС приема'] + break_1['УФПС назначения'].astype(str)).map(geo_1_dict) * summary.loc[0,'cnt']\n",
    "break_1['break_part'] = break_1['cnt'] / break_1['cnt geo']\n",
    "break_1['link'] = break_1['УФПС приема'] + break_1['УФПС назначения'].astype(str) + break_1['Брейк'].astype(str)\n",
    "break_1_dict = break_1[['link','break_part']].set_index('link').to_dict()['break_part']"
   ]
  },
  {
   "cell_type": "code",
   "execution_count": 7,
   "metadata": {},
   "outputs": [],
   "source": [
    "# делаем разбивку по ОЦ\n",
    "oc_0 = df[['УФПС приема', 'УФПС назначения','Брейк','ОЦ','cnt18']].groupby(['УФПС приема', 'УФПС назначения','Брейк', 'ОЦ']).sum().reset_index()\n",
    "oc_0['link'] = oc_0['УФПС приема'] + oc_0['УФПС назначения'].astype(str) + oc_0['Брейк'].astype(str)\n",
    "oc_0['cnt_break'] = oc_0['link'].map(break_0[['link','cnt18']].set_index('link').to_dict()['cnt18'])\n",
    "oc_0['oc_dolya'] = oc_0['cnt18'] / oc_0['cnt_break']\n",
    "oc_0['link'] = oc_0['link'] + oc_0['ОЦ']\n",
    "oc_0_dict = oc_0[['link','oc_dolya']].set_index('link').to_dict()['oc_dolya']\n",
    "\n",
    "\n",
    "oc_1 = df[['УФПС приема', 'УФПС назначения','Брейк','ОЦ','cnt']].groupby(['УФПС приема', 'УФПС назначения','Брейк', 'ОЦ']).sum().reset_index()\n",
    "oc_1['link'] = oc_1['УФПС приема'] + oc_1['УФПС назначения'].astype(str) + oc_1['Брейк'].astype(str)\n",
    "oc_1['cnt_break'] = oc_1['link'].map(break_1[['link','cnt']].set_index('link').to_dict()['cnt'])\n",
    "oc_1['oc_dolya'] = oc_1['cnt'] / oc_1['cnt_break']\n",
    "oc_1['link'] = oc_1['link'] + oc_1['ОЦ']\n",
    "oc_1_dict = oc_1[['link','oc_dolya']].set_index('link').to_dict()['oc_dolya']"
   ]
  },
  {
   "cell_type": "code",
   "execution_count": 8,
   "metadata": {},
   "outputs": [],
   "source": [
    "# подтягиваем все доли к исходной таблице\n",
    "df['доля направления 0'] = (df['УФПС приема'] + df['УФПС назначения'].astype(str)).map(geo_0_dict).fillna(0)\n",
    "df['доля типа пересылки 0'] = 1\n",
    "df['доля break 0'] = (df['УФПС приема'] + df['УФПС назначения'].astype(str) + df['Брейк'].astype(str)).map(break_0_dict).fillna(0)\n",
    "df['доля оц 0'] = (df['УФПС приема'] + df['УФПС назначения'].astype(str) + df['Брейк'].astype(str) + df['ОЦ']).map(oc_0_dict).fillna(0)\n",
    "\n",
    "df['доля направления 1'] = (df['УФПС приема'] + df['УФПС назначения'].astype(str)).map(geo_1_dict).fillna(0)\n",
    "df['доля типа пересылки 1'] = 1\n",
    "df['доля break 1'] = (df['УФПС приема'] + df['УФПС назначения'].astype(str) + df['Брейк'].astype(str)).map(break_1_dict).fillna(0)\n",
    "df['доля оц 1'] = (df['УФПС приема'] + df['УФПС назначения'].astype(str) + df['Брейк'].astype(str) + df['ОЦ']).map(oc_1_dict).fillna(0)"
   ]
  },
  {
   "cell_type": "code",
   "execution_count": 9,
   "metadata": {},
   "outputs": [],
   "source": [
    "df['фактор объемов'] = summary.loc[0,'cnt'] * df['доля направления 0'] * df['доля типа пересылки 0'] * df['доля break 0'] * df['доля оц 0'] * df['цена0'] - df['revenue18']\n",
    "\n",
    "df['фактор цены'] = summary.loc[0,'cnt'] * df['доля направления 0'] * df['доля типа пересылки 0'] * df['доля break 0'] * df['доля оц 0'] * df['цена1'] - df['revenue18']\n",
    "\n",
    "df['фактор гео'] = summary.loc[0,'cnt'] * df['доля направления 1'] * df['доля типа пересылки 0'] * df['доля break 0'] * df['доля оц 0'] * df['цена1'] - df['revenue18']\n",
    "df.loc[df['доля направления 0']==0,'фактор гео'] = df.loc[df['доля направления 0']==0,'revenue']\n",
    "\n",
    "df['фактор тип пересылки'] = summary.loc[0,'cnt'] * df['доля направления 1'] * df['доля типа пересылки 1'] * df['доля break 0'] * df['доля оц 0'] * df['цена1'] - df['revenue18']\n",
    "df.loc[df['доля направления 0']==0,'фактор тип пересылки'] = df.loc[df['доля направления 0']==0,'revenue']\n",
    "\n",
    "df['фактор брейка'] = summary.loc[0,'cnt'] * df['доля направления 1'] * df['доля типа пересылки 1'] * df['доля break 1'] * df['доля оц 0'] * df['цена1'] - df['revenue18']\n",
    "df.loc[df['доля break 0']==0,'фактор брейка'] = df.loc[df['доля break 0']==0,'revenue']\n",
    "\n",
    "df['фактор ОЦ'] = summary.loc[0,'cnt'] * df['доля направления 1'] * df['доля типа пересылки 1'] * df['доля break 1'] * df['доля оц 1'] * df['цена1'] - df['revenue18']\n",
    "df.loc[df['доля оц 0']==0,'фактор ОЦ'] = df.loc[df['доля оц 0']==0,'revenue']"
   ]
  },
  {
   "cell_type": "code",
   "execution_count": 10,
   "metadata": {},
   "outputs": [
    {
     "data": {
      "text/html": [
       "<div>\n",
       "<style scoped>\n",
       "    .dataframe tbody tr th:only-of-type {\n",
       "        vertical-align: middle;\n",
       "    }\n",
       "\n",
       "    .dataframe tbody tr th {\n",
       "        vertical-align: top;\n",
       "    }\n",
       "\n",
       "    .dataframe thead th {\n",
       "        text-align: right;\n",
       "    }\n",
       "</style>\n",
       "<table border=\"1\" class=\"dataframe\">\n",
       "  <thead>\n",
       "    <tr style=\"text-align: right;\">\n",
       "      <th></th>\n",
       "      <th>фактор объемов</th>\n",
       "      <th>фактор цены</th>\n",
       "      <th>фактор гео</th>\n",
       "      <th>фактор тип пересылки</th>\n",
       "      <th>фактор брейка</th>\n",
       "      <th>фактор ОЦ</th>\n",
       "    </tr>\n",
       "  </thead>\n",
       "  <tbody>\n",
       "    <tr>\n",
       "      <th>0</th>\n",
       "      <td>1.172064e+08</td>\n",
       "      <td>2.034842e+08</td>\n",
       "      <td>2.009515e+08</td>\n",
       "      <td>2.009515e+08</td>\n",
       "      <td>2.182770e+08</td>\n",
       "      <td>2.047266e+08</td>\n",
       "    </tr>\n",
       "  </tbody>\n",
       "</table>\n",
       "</div>"
      ],
      "text/plain": [
       "   фактор объемов   фактор цены    фактор гео  фактор тип пересылки  \\\n",
       "0    1.172064e+08  2.034842e+08  2.009515e+08          2.009515e+08   \n",
       "\n",
       "   фактор брейка     фактор ОЦ  \n",
       "0   2.182770e+08  2.047266e+08  "
      ]
     },
     "execution_count": 10,
     "metadata": {},
     "output_type": "execute_result"
    }
   ],
   "source": [
    "factor_sum = pd.DataFrame(df[['фактор объемов','фактор цены','фактор гео','фактор тип пересылки','фактор брейка', 'фактор ОЦ']].sum()).T\n",
    "factor_sum\n"
   ]
  },
  {
   "cell_type": "code",
   "execution_count": 11,
   "metadata": {},
   "outputs": [],
   "source": [
    "sdt_by_factors = pd.DataFrame(columns = ['std0',  'объемы', 'цена', 'гео', 'тип пересылки', 'брейк',  'оц', 'sdt1'],index = [0])\n",
    "sdt_by_factors['std0'] = summary.loc[0,'revenue18'] / summary.loc[0,'cnt18']\n",
    "sdt_by_factors['объемы'] = (summary.loc[0,'revenue18'] + factor_sum.loc[0,'фактор объемов']) / summary.loc[0,'cnt']\n",
    "sdt_by_factors['цена'] = (summary.loc[0,'revenue18']  + factor_sum.loc[0,'фактор цены']) / summary.loc[0,'cnt']\n",
    "sdt_by_factors['гео'] = (summary.loc[0,'revenue18']  + factor_sum.loc[0,'фактор гео']) / summary.loc[0,'cnt']\n",
    "sdt_by_factors['тип пересылки'] = (summary.loc[0,'revenue18']  + factor_sum.loc[0,'фактор тип пересылки']) / summary.loc[0,'cnt']\n",
    "sdt_by_factors['брейк'] = (summary.loc[0,'revenue18']  + factor_sum.loc[0,'фактор брейка']) / summary.loc[0,'cnt']\n",
    "sdt_by_factors['оц'] = (summary.loc[0,'revenue18']  + factor_sum.loc[0,'фактор ОЦ']) / summary.loc[0,'cnt']\n",
    "sdt_by_factors['sdt1'] = summary.loc[0,'revenue'] / summary.loc[0,'cnt']\n",
    "sdt_by_factors = sdt_by_factors.round(2)"
   ]
  },
  {
   "cell_type": "code",
   "execution_count": 12,
   "metadata": {},
   "outputs": [
    {
     "data": {
      "text/html": [
       "<div>\n",
       "<style scoped>\n",
       "    .dataframe tbody tr th:only-of-type {\n",
       "        vertical-align: middle;\n",
       "    }\n",
       "\n",
       "    .dataframe tbody tr th {\n",
       "        vertical-align: top;\n",
       "    }\n",
       "\n",
       "    .dataframe thead th {\n",
       "        text-align: right;\n",
       "    }\n",
       "</style>\n",
       "<table border=\"1\" class=\"dataframe\">\n",
       "  <thead>\n",
       "    <tr style=\"text-align: right;\">\n",
       "      <th></th>\n",
       "      <th>std0</th>\n",
       "      <th>объемы</th>\n",
       "      <th>цена</th>\n",
       "      <th>гео</th>\n",
       "      <th>тип пересылки</th>\n",
       "      <th>брейк</th>\n",
       "      <th>оц</th>\n",
       "      <th>sdt1</th>\n",
       "    </tr>\n",
       "  </thead>\n",
       "  <tbody>\n",
       "    <tr>\n",
       "      <th>0</th>\n",
       "      <td>225.74</td>\n",
       "      <td>225.74</td>\n",
       "      <td>280.15</td>\n",
       "      <td>278.56</td>\n",
       "      <td>278.56</td>\n",
       "      <td>289.48</td>\n",
       "      <td>280.94</td>\n",
       "      <td>280.94</td>\n",
       "    </tr>\n",
       "    <tr>\n",
       "      <th>delta</th>\n",
       "      <td>0.00</td>\n",
       "      <td>0.00</td>\n",
       "      <td>54.41</td>\n",
       "      <td>-1.59</td>\n",
       "      <td>0.00</td>\n",
       "      <td>10.92</td>\n",
       "      <td>-8.54</td>\n",
       "      <td>0.00</td>\n",
       "    </tr>\n",
       "  </tbody>\n",
       "</table>\n",
       "</div>"
      ],
      "text/plain": [
       "         std0  объемы    цена     гео  тип пересылки   брейк      оц    sdt1\n",
       "0      225.74  225.74  280.15  278.56         278.56  289.48  280.94  280.94\n",
       "delta    0.00    0.00   54.41   -1.59           0.00   10.92   -8.54    0.00"
      ]
     },
     "execution_count": 12,
     "metadata": {},
     "output_type": "execute_result"
    }
   ],
   "source": [
    "sdt_by_factors.loc['delta',:] = 0\n",
    "for i in range(1,len(sdt_by_factors.T)):\n",
    "    sdt_by_factors.iloc[:,i]['delta'] = sdt_by_factors.iloc[:,i][0] - sdt_by_factors.iloc[:,i-1][0]\n",
    "\n",
    "\n",
    "sdt_by_factors"
   ]
  },
  {
   "cell_type": "code",
   "execution_count": 14,
   "metadata": {},
   "outputs": [],
   "source": [
    "df.to_excel('ФА проверка скрипта.xlsx', index = False)"
   ]
  }
 ],
 "metadata": {
  "kernelspec": {
   "display_name": "Python 3",
   "language": "python",
   "name": "python3"
  },
  "language_info": {
   "codemirror_mode": {
    "name": "ipython",
    "version": 3
   },
   "file_extension": ".py",
   "mimetype": "text/x-python",
   "name": "python",
   "nbconvert_exporter": "python",
   "pygments_lexer": "ipython3",
   "version": "3.7.1"
  }
 },
 "nbformat": 4,
 "nbformat_minor": 4
}
